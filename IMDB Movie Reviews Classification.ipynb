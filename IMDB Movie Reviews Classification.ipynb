{
 "cells": [
  {
   "cell_type": "markdown",
   "id": "f5c4335f",
   "metadata": {},
   "source": [
    "# IMDB Movie Review Sentiment Analysis"
   ]
  },
  {
   "cell_type": "markdown",
   "id": "cdfedf7f",
   "metadata": {},
   "source": [
    "## Classification"
   ]
  },
  {
   "cell_type": "markdown",
   "id": "0d52abdf",
   "metadata": {},
   "source": [
    "#### Table of Contents"
   ]
  },
  {
   "cell_type": "markdown",
   "id": "568eff83",
   "metadata": {},
   "source": [
    "- [Library Imports](#Library-Imports)\n",
    "- [Data Reading](#Data-Reading)\n",
    "- [Data Splitting](#Data-Splitting)\n",
    "- [Text Data Vectorization](#Text-Data-Vectorization)\n",
    "- [Model Metrics](#Model-Metrics)\n",
    "- [Model Training & Validation](#Model-Training-&-Validation)\n",
    "- [Hyper Parameter Tuning](#Hyper-Parameter-Tuning)\n",
    "- [Model Testing](#Model-Testing)"
   ]
  },
  {
   "cell_type": "markdown",
   "id": "5595fe8a",
   "metadata": {},
   "source": [
    "#### Library Imports"
   ]
  },
  {
   "cell_type": "code",
   "execution_count": 16,
   "id": "2e815080",
   "metadata": {},
   "outputs": [],
   "source": [
    "import pickle\n",
    "import pandas as pd\n",
    "import seaborn as sns\n",
    "from sklearn.svm import SVC\n",
    "import matplotlib.pyplot as plt\n",
    "from sklearn.preprocessing import MaxAbsScaler\n",
    "from sklearn.tree import DecisionTreeClassifier\n",
    "from sklearn.neighbors import KNeighborsClassifier\n",
    "from sklearn.linear_model import LogisticRegression\n",
    "from sklearn.naive_bayes import MultinomialNB, BernoulliNB\n",
    "from sklearn.feature_extraction.text import TfidfVectorizer\n",
    "from sklearn.model_selection import train_test_split, GridSearchCV\n",
    "from sklearn.metrics import confusion_matrix, classification_report\n",
    "from sklearn.ensemble import RandomForestClassifier, ExtraTreesClassifier, BaggingClassifier"
   ]
  },
  {
   "cell_type": "markdown",
   "id": "741d1b82",
   "metadata": {},
   "source": [
    "#### Data Reading"
   ]
  },
  {
   "cell_type": "code",
   "execution_count": 2,
   "id": "f4816ccd",
   "metadata": {},
   "outputs": [],
   "source": [
    "mov_reviews = pd.read_pickle('Data/movie_reviews_cleaned_spacy.pkl')"
   ]
  },
  {
   "cell_type": "markdown",
   "id": "b652986d",
   "metadata": {},
   "source": [
    "#### Data Splitting"
   ]
  },
  {
   "cell_type": "code",
   "execution_count": 3,
   "id": "5f026b42",
   "metadata": {},
   "outputs": [],
   "source": [
    "X = mov_reviews.clean_review\n",
    "y = mov_reviews.sentiment"
   ]
  },
  {
   "cell_type": "code",
   "execution_count": 4,
   "id": "74caa3cd",
   "metadata": {},
   "outputs": [],
   "source": [
    "X_rem, X_train, y_rem, y_train = train_test_split(X, y, test_size=.90, random_state=42)\n",
    "X_valid, X_test, y_valid, y_test = train_test_split(X_rem, y_rem, test_size=.5, random_state=42)"
   ]
  },
  {
   "cell_type": "markdown",
   "id": "96aea4d9",
   "metadata": {},
   "source": [
    "#### Text Data Vectorization"
   ]
  },
  {
   "cell_type": "code",
   "execution_count": 5,
   "id": "c756bbe1",
   "metadata": {},
   "outputs": [],
   "source": [
    "tfidf = TfidfVectorizer()\n",
    "X_train_tfidf = tfidf.fit_transform(X_train)\n",
    "X_valid_tfidf = tfidf.transform(X_valid)"
   ]
  },
  {
   "cell_type": "markdown",
   "id": "d7ec49a6",
   "metadata": {},
   "source": [
    "#### Model Metrics"
   ]
  },
  {
   "cell_type": "code",
   "execution_count": 48,
   "id": "99ba28fd",
   "metadata": {},
   "outputs": [],
   "source": [
    "def model_metrics(model_name, y_train, y_pred_train, y, y_pred, test=False, save=False):\n",
    "    \n",
    "    if test:\n",
    "        split_name = 'Testing'\n",
    "    else:\n",
    "        split_name = 'Validation'\n",
    "    \n",
    "    # save accuracy of each set \n",
    "    train_accu = classification_report(y_train, y_pred_train, output_dict=True)['accuracy'] * 100\n",
    "    val_test_accu = classification_report(y, y_pred, output_dict=True)['accuracy'] * 100\n",
    "        \n",
    "    # print classification report (accuracy, f1, recall, precision) of each set\n",
    "    print('Training Scores:\\n\\n', classification_report(y_train, y_pred_train), '_'*53, '\\n')\n",
    "    print(f'{split_name} Scores:\\n\\n', classification_report(y, y_pred), '_'*53, '\\n')\n",
    "        \n",
    "    # print difference between training and validation/test\n",
    "    print(f'Training/{split_name} Difference:', train_accu - val_test_accu, '\\n')\n",
    "        \n",
    "    # save confusion matrix of each set\n",
    "    cm_train = confusion_matrix(y_train, y_pred_train)\n",
    "    cm_val_test = confusion_matrix(y, y_pred)\n",
    "    \n",
    "    # plot heatmap of each set\n",
    "    fig, ax = plt.subplots(1, 2, figsize=[12, 4])\n",
    "    plt.suptitle(f'{model_name} Confusion Matrices')\n",
    "    cmap = sns.dark_palette(\"#69d\", reverse=True, as_cmap=True)\n",
    "    labels = ['Positive', 'Negative']\n",
    "    sns.heatmap(cm_train, annot=True, fmt='d', linewidths=.5, ax=ax[0], cmap=cmap, xticklabels=labels, yticklabels=labels).set_title('Training')\n",
    "    sns.heatmap(cm_val_test, annot=True, fmt='d', linewidths=.5, ax=ax[1], cmap=cmap, xticklabels=labels, yticklabels=labels).set_title(f'{split_name}')\n",
    "    \n",
    "    if save:\n",
    "        plt.savefig(f'Images/{model_name} confusion matrices.png', bbox_inches='tight', transparent=True)"
   ]
  },
  {
   "cell_type": "markdown",
   "id": "1aa0e8f6",
   "metadata": {},
   "source": [
    "#### Model Training & Validation"
   ]
  },
  {
   "cell_type": "markdown",
   "id": "8c438cdf",
   "metadata": {},
   "source": [
    "- k-Nearest Neighbors"
   ]
  },
  {
   "cell_type": "code",
   "execution_count": 7,
   "id": "9df3d992",
   "metadata": {},
   "outputs": [
    {
     "data": {
      "text/plain": [
       "KNeighborsClassifier()"
      ]
     },
     "execution_count": 7,
     "metadata": {},
     "output_type": "execute_result"
    }
   ],
   "source": [
    "knn = KNeighborsClassifier()\n",
    "knn.fit(X_train_tfidf, y_train)"
   ]
  },
  {
   "cell_type": "code",
   "execution_count": 8,
   "id": "7da566b9",
   "metadata": {},
   "outputs": [],
   "source": [
    "y_pred_train = knn.predict(X_train_tfidf)\n",
    "y_pred = knn.predict(X_valid_tfidf)"
   ]
  },
  {
   "cell_type": "code",
   "execution_count": 9,
   "id": "169b9f62",
   "metadata": {},
   "outputs": [
    {
     "name": "stdout",
     "output_type": "stream",
     "text": [
      "Training Scores:\n",
      "\n",
      "               precision    recall  f1-score   support\n",
      "\n",
      "    negative       0.87      0.51      0.65     96750\n",
      "    positive       0.68      0.93      0.79    108822\n",
      "\n",
      "    accuracy                           0.73    205572\n",
      "   macro avg       0.78      0.72      0.72    205572\n",
      "weighted avg       0.77      0.73      0.72    205572\n",
      " _____________________________________________________ \n",
      "\n",
      "Validation Scores:\n",
      "\n",
      "               precision    recall  f1-score   support\n",
      "\n",
      "    negative       0.54      0.21      0.30      5375\n",
      "    positive       0.54      0.84      0.66      6045\n",
      "\n",
      "    accuracy                           0.54     11420\n",
      "   macro avg       0.54      0.52      0.48     11420\n",
      "weighted avg       0.54      0.54      0.49     11420\n",
      " _____________________________________________________ \n",
      "\n",
      "Training/Validation Difference: 19.154109078004495 \n",
      "\n"
     ]
    },
    {
     "data": {
      "image/png": "[encoded data removed]",
      "text/plain": [
       "<Figure size 864x288 with 4 Axes>"
      ]
     },
     "metadata": {
      "needs_background": "light"
     },
     "output_type": "display_data"
    }
   ],
   "source": [
    "model_metrics('k-Nearest Neighbors', y_train, y_pred_train, y_valid, y_pred, test=False)"
   ]
  },
  {
   "cell_type": "markdown",
   "id": "af6d0529",
   "metadata": {},
   "source": [
    "- Logistic Regression"
   ]
  },
  {
   "cell_type": "code",
   "execution_count": 10,
   "id": "651673f2",
   "metadata": {},
   "outputs": [
    {
     "data": {
      "text/plain": [
       "LogisticRegression(max_iter=150)"
      ]
     },
     "execution_count": 10,
     "metadata": {},
     "output_type": "execute_result"
    }
   ],
   "source": [
    "logreg = LogisticRegression(max_iter=150)\n",
    "logreg.fit(X_train_tfidf, y_train)"
   ]
  },
  {
   "cell_type": "code",
   "execution_count": 11,
   "id": "936c5d86",
   "metadata": {},
   "outputs": [],
   "source": [
    "y_pred_train = logreg.predict(X_train_tfidf)\n",
    "y_pred = logreg.predict(X_valid_tfidf)"
   ]
  },
  {
   "cell_type": "code",
   "execution_count": 12,
   "id": "871d14c7",
   "metadata": {},
   "outputs": [
    {
     "name": "stdout",
     "output_type": "stream",
     "text": [
      "Training Scores:\n",
      "\n",
      "               precision    recall  f1-score   support\n",
      "\n",
      "    negative       0.93      0.92      0.92     96750\n",
      "    positive       0.93      0.94      0.93    108822\n",
      "\n",
      "    accuracy                           0.93    205572\n",
      "   macro avg       0.93      0.93      0.93    205572\n",
      "weighted avg       0.93      0.93      0.93    205572\n",
      " _____________________________________________________ \n",
      "\n",
      "Validation Scores:\n",
      "\n",
      "               precision    recall  f1-score   support\n",
      "\n",
      "    negative       0.92      0.89      0.91      5375\n",
      "    positive       0.91      0.93      0.92      6045\n",
      "\n",
      "    accuracy                           0.92     11420\n",
      "   macro avg       0.92      0.91      0.91     11420\n",
      "weighted avg       0.92      0.92      0.92     11420\n",
      " _____________________________________________________ \n",
      "\n",
      "Training/Validation Difference: 1.2341248133481173 \n",
      "\n"
     ]
    },
    {
     "data": {
      "image/png": "[encoded data removed]",
      "text/plain": [
       "<Figure size 864x288 with 4 Axes>"
      ]
     },
     "metadata": {
      "needs_background": "light"
     },
     "output_type": "display_data"
    }
   ],
   "source": [
    "model_metrics('Logistic Regression', y_train, y_pred_train, y_valid, y_pred, test=False)"
   ]
  },
  {
   "cell_type": "markdown",
   "id": "9b84121b",
   "metadata": {},
   "source": [
    "- Decision Tree"
   ]
  },
  {
   "cell_type": "code",
   "execution_count": 13,
   "id": "c0adfcd5",
   "metadata": {},
   "outputs": [
    {
     "data": {
      "text/plain": [
       "DecisionTreeClassifier()"
      ]
     },
     "execution_count": 13,
     "metadata": {},
     "output_type": "execute_result"
    }
   ],
   "source": [
    "dtc = DecisionTreeClassifier()\n",
    "dtc.fit(X_train_tfidf, y_train)"
   ]
  },
  {
   "cell_type": "code",
   "execution_count": 14,
   "id": "4cda17d4",
   "metadata": {},
   "outputs": [],
   "source": [
    "y_pred_train = dtc.predict(X_train_tfidf)\n",
    "y_pred = dtc.predict(X_valid_tfidf)"
   ]
  },
  {
   "cell_type": "code",
   "execution_count": 15,
   "id": "5965120a",
   "metadata": {},
   "outputs": [
    {
     "name": "stdout",
     "output_type": "stream",
     "text": [
      "Training Scores:\n",
      "\n",
      "               precision    recall  f1-score   support\n",
      "\n",
      "    negative       1.00      1.00      1.00     96750\n",
      "    positive       1.00      1.00      1.00    108822\n",
      "\n",
      "    accuracy                           1.00    205572\n",
      "   macro avg       1.00      1.00      1.00    205572\n",
      "weighted avg       1.00      1.00      1.00    205572\n",
      " _____________________________________________________ \n",
      "\n",
      "Validation Scores:\n",
      "\n",
      "               precision    recall  f1-score   support\n",
      "\n",
      "    negative       0.74      0.74      0.74      5375\n",
      "    positive       0.77      0.77      0.77      6045\n",
      "\n",
      "    accuracy                           0.76     11420\n",
      "   macro avg       0.76      0.76      0.76     11420\n",
      "weighted avg       0.76      0.76      0.76     11420\n",
      " _____________________________________________________ \n",
      "\n",
      "Training/Validation Difference: 24.09564131731298 \n",
      "\n"
     ]
    },
    {
     "data": {
      "image/png": "[encoded data removed]",
      "text/plain": [
       "<Figure size 864x288 with 4 Axes>"
      ]
     },
     "metadata": {
      "needs_background": "light"
     },
     "output_type": "display_data"
    }
   ],
   "source": [
    "model_metrics('Decision Tree', y_train, y_pred_train, y_valid, y_pred, test=False)"
   ]
  },
  {
   "cell_type": "markdown",
   "id": "1dd81305",
   "metadata": {},
   "source": [
    "- Random Forest"
   ]
  },
  {
   "cell_type": "code",
   "execution_count": 16,
   "id": "b89a6796",
   "metadata": {},
   "outputs": [
    {
     "data": {
      "text/plain": [
       "RandomForestClassifier()"
      ]
     },
     "execution_count": 16,
     "metadata": {},
     "output_type": "execute_result"
    }
   ],
   "source": [
    "rfc = RandomForestClassifier()\n",
    "rfc.fit(X_train_tfidf, y_train)"
   ]
  },
  {
   "cell_type": "code",
   "execution_count": 17,
   "id": "94bf10f5",
   "metadata": {},
   "outputs": [],
   "source": [
    "y_pred_train = rfc.predict(X_train_tfidf)\n",
    "y_pred = rfc.predict(X_valid_tfidf)"
   ]
  },
  {
   "cell_type": "code",
   "execution_count": 18,
   "id": "13bd71ce",
   "metadata": {},
   "outputs": [
    {
     "name": "stdout",
     "output_type": "stream",
     "text": [
      "Training Scores:\n",
      "\n",
      "               precision    recall  f1-score   support\n",
      "\n",
      "    negative       1.00      1.00      1.00     96750\n",
      "    positive       1.00      1.00      1.00    108822\n",
      "\n",
      "    accuracy                           1.00    205572\n",
      "   macro avg       1.00      1.00      1.00    205572\n",
      "weighted avg       1.00      1.00      1.00    205572\n",
      " _____________________________________________________ \n",
      "\n",
      "Validation Scores:\n",
      "\n",
      "               precision    recall  f1-score   support\n",
      "\n",
      "    negative       0.89      0.86      0.87      5375\n",
      "    positive       0.88      0.91      0.89      6045\n",
      "\n",
      "    accuracy                           0.88     11420\n",
      "   macro avg       0.88      0.88      0.88     11420\n",
      "weighted avg       0.88      0.88      0.88     11420\n",
      " _____________________________________________________ \n",
      "\n",
      "Training/Validation Difference: 11.696341842707028 \n",
      "\n"
     ]
    },
    {
     "data": {
      "image/png": "[encoded data removed]",
      "text/plain": [
       "<Figure size 864x288 with 4 Axes>"
      ]
     },
     "metadata": {
      "needs_background": "light"
     },
     "output_type": "display_data"
    }
   ],
   "source": [
    "model_metrics('Random Forest', y_train, y_pred_train, y_valid, y_pred, test=False)"
   ]
  },
  {
   "cell_type": "markdown",
   "id": "c54ce1a5",
   "metadata": {},
   "source": [
    "- Extra Trees"
   ]
  },
  {
   "cell_type": "code",
   "execution_count": 19,
   "id": "0d644ebe",
   "metadata": {},
   "outputs": [
    {
     "data": {
      "text/plain": [
       "ExtraTreesClassifier()"
      ]
     },
     "execution_count": 19,
     "metadata": {},
     "output_type": "execute_result"
    }
   ],
   "source": [
    "etc = ExtraTreesClassifier()\n",
    "etc.fit(X_train_tfidf, y_train)"
   ]
  },
  {
   "cell_type": "code",
   "execution_count": 20,
   "id": "2a9bd72c",
   "metadata": {},
   "outputs": [],
   "source": [
    "y_pred_train = etc.predict(X_train_tfidf)\n",
    "y_pred = etc.predict(X_valid_tfidf)"
   ]
  },
  {
   "cell_type": "code",
   "execution_count": 21,
   "id": "dc82f272",
   "metadata": {},
   "outputs": [
    {
     "name": "stdout",
     "output_type": "stream",
     "text": [
      "Training Scores:\n",
      "\n",
      "               precision    recall  f1-score   support\n",
      "\n",
      "    negative       1.00      1.00      1.00     96750\n",
      "    positive       1.00      1.00      1.00    108822\n",
      "\n",
      "    accuracy                           1.00    205572\n",
      "   macro avg       1.00      1.00      1.00    205572\n",
      "weighted avg       1.00      1.00      1.00    205572\n",
      " _____________________________________________________ \n",
      "\n",
      "Validation Scores:\n",
      "\n",
      "               precision    recall  f1-score   support\n",
      "\n",
      "    negative       0.90      0.87      0.89      5375\n",
      "    positive       0.89      0.92      0.90      6045\n",
      "\n",
      "    accuracy                           0.89     11420\n",
      "   macro avg       0.90      0.89      0.89     11420\n",
      "weighted avg       0.89      0.89      0.89     11420\n",
      " _____________________________________________________ \n",
      "\n",
      "Training/Validation Difference: 10.531718375106323 \n",
      "\n"
     ]
    },
    {
     "data": {
      "image/png": "[encoded data removed]",
      "text/plain": [
       "<Figure size 864x288 with 4 Axes>"
      ]
     },
     "metadata": {
      "needs_background": "light"
     },
     "output_type": "display_data"
    }
   ],
   "source": [
    "model_metrics('Extra Trees', y_train, y_pred_train, y_valid, y_pred, test=False)"
   ]
  },
  {
   "cell_type": "markdown",
   "id": "2abf0435",
   "metadata": {},
   "source": [
    "- Bagging Classifier"
   ]
  },
  {
   "cell_type": "code",
   "execution_count": 22,
   "id": "b0c86d7d",
   "metadata": {},
   "outputs": [
    {
     "data": {
      "text/plain": [
       "BaggingClassifier()"
      ]
     },
     "execution_count": 22,
     "metadata": {},
     "output_type": "execute_result"
    }
   ],
   "source": [
    "bgc = BaggingClassifier()\n",
    "bgc.fit(X_train_tfidf, y_train)"
   ]
  },
  {
   "cell_type": "code",
   "execution_count": 23,
   "id": "00da6615",
   "metadata": {},
   "outputs": [],
   "source": [
    "y_pred_train = bgc.predict(X_train_tfidf)\n",
    "y_pred = bgc.predict(X_valid_tfidf)"
   ]
  },
  {
   "cell_type": "code",
   "execution_count": 24,
   "id": "531cf245",
   "metadata": {},
   "outputs": [
    {
     "name": "stdout",
     "output_type": "stream",
     "text": [
      "Training Scores:\n",
      "\n",
      "               precision    recall  f1-score   support\n",
      "\n",
      "    negative       0.98      0.99      0.99     96750\n",
      "    positive       0.99      0.99      0.99    108822\n",
      "\n",
      "    accuracy                           0.99    205572\n",
      "   macro avg       0.99      0.99      0.99    205572\n",
      "weighted avg       0.99      0.99      0.99    205572\n",
      " _____________________________________________________ \n",
      "\n",
      "Validation Scores:\n",
      "\n",
      "               precision    recall  f1-score   support\n",
      "\n",
      "    negative       0.80      0.82      0.81      5375\n",
      "    positive       0.84      0.81      0.83      6045\n",
      "\n",
      "    accuracy                           0.82     11420\n",
      "   macro avg       0.82      0.82      0.82     11420\n",
      "weighted avg       0.82      0.82      0.82     11420\n",
      " _____________________________________________________ \n",
      "\n",
      "Training/Validation Difference: 17.138611625132555 \n",
      "\n"
     ]
    },
    {
     "data": {
      "image/png": "[encoded data removed]",
      "text/plain": [
       "<Figure size 864x288 with 4 Axes>"
      ]
     },
     "metadata": {
      "needs_background": "light"
     },
     "output_type": "display_data"
    }
   ],
   "source": [
    "model_metrics('Bagging', y_train, y_pred_train, y_valid, y_pred, test=False)"
   ]
  },
  {
   "cell_type": "markdown",
   "id": "c80ca057",
   "metadata": {},
   "source": [
    "- Bernoulli Naive Bayes"
   ]
  },
  {
   "cell_type": "code",
   "execution_count": 25,
   "id": "eb1c967a",
   "metadata": {},
   "outputs": [
    {
     "data": {
      "text/plain": [
       "BernoulliNB()"
      ]
     },
     "execution_count": 25,
     "metadata": {},
     "output_type": "execute_result"
    }
   ],
   "source": [
    "bnb = BernoulliNB()\n",
    "bnb.fit(X_train_tfidf, y_train)"
   ]
  },
  {
   "cell_type": "code",
   "execution_count": 26,
   "id": "1c39d313",
   "metadata": {},
   "outputs": [],
   "source": [
    "y_pred_train = bnb.predict(X_train_tfidf)\n",
    "y_pred = bnb.predict(X_valid_tfidf)"
   ]
  },
  {
   "cell_type": "code",
   "execution_count": 27,
   "id": "923140c5",
   "metadata": {},
   "outputs": [
    {
     "name": "stdout",
     "output_type": "stream",
     "text": [
      "Training Scores:\n",
      "\n",
      "               precision    recall  f1-score   support\n",
      "\n",
      "    negative       0.81      0.92      0.86     96750\n",
      "    positive       0.92      0.81      0.86    108822\n",
      "\n",
      "    accuracy                           0.86    205572\n",
      "   macro avg       0.87      0.87      0.86    205572\n",
      "weighted avg       0.87      0.86      0.86    205572\n",
      " _____________________________________________________ \n",
      "\n",
      "Validation Scores:\n",
      "\n",
      "               precision    recall  f1-score   support\n",
      "\n",
      "    negative       0.82      0.91      0.86      5375\n",
      "    positive       0.91      0.82      0.86      6045\n",
      "\n",
      "    accuracy                           0.86     11420\n",
      "   macro avg       0.86      0.86      0.86     11420\n",
      "weighted avg       0.87      0.86      0.86     11420\n",
      " _____________________________________________________ \n",
      "\n",
      "Training/Validation Difference: 0.387054660656716 \n",
      "\n"
     ]
    },
    {
     "data": {
      "image/png": "[encoded data removed]",
      "text/plain": [
       "<Figure size 864x288 with 4 Axes>"
      ]
     },
     "metadata": {
      "needs_background": "light"
     },
     "output_type": "display_data"
    }
   ],
   "source": [
    "model_metrics('Bernoulli Naive Bayes', y_train, y_pred_train, y_valid, y_pred, test=False)"
   ]
  },
  {
   "cell_type": "markdown",
   "id": "6aa2eb89",
   "metadata": {},
   "source": [
    "- Multinomial Naive Bayes"
   ]
  },
  {
   "cell_type": "code",
   "execution_count": 28,
   "id": "ceb76902",
   "metadata": {},
   "outputs": [
    {
     "data": {
      "text/plain": [
       "MultinomialNB()"
      ]
     },
     "execution_count": 28,
     "metadata": {},
     "output_type": "execute_result"
    }
   ],
   "source": [
    "mnb = MultinomialNB()\n",
    "mnb.fit(X_train_tfidf, y_train)"
   ]
  },
  {
   "cell_type": "code",
   "execution_count": 29,
   "id": "4381c013",
   "metadata": {},
   "outputs": [],
   "source": [
    "y_pred_train = mnb.predict(X_train_tfidf)\n",
    "y_pred = mnb.predict(X_valid_tfidf)"
   ]
  },
  {
   "cell_type": "code",
   "execution_count": 30,
   "id": "b79d4cd1",
   "metadata": {},
   "outputs": [
    {
     "name": "stdout",
     "output_type": "stream",
     "text": [
      "Training Scores:\n",
      "\n",
      "               precision    recall  f1-score   support\n",
      "\n",
      "    negative       0.90      0.87      0.89     96750\n",
      "    positive       0.89      0.92      0.90    108822\n",
      "\n",
      "    accuracy                           0.90    205572\n",
      "   macro avg       0.90      0.89      0.89    205572\n",
      "weighted avg       0.90      0.90      0.90    205572\n",
      " _____________________________________________________ \n",
      "\n",
      "Validation Scores:\n",
      "\n",
      "               precision    recall  f1-score   support\n",
      "\n",
      "    negative       0.90      0.85      0.87      5375\n",
      "    positive       0.87      0.91      0.89      6045\n",
      "\n",
      "    accuracy                           0.88     11420\n",
      "   macro avg       0.88      0.88      0.88     11420\n",
      "weighted avg       0.88      0.88      0.88     11420\n",
      " _____________________________________________________ \n",
      "\n",
      "Training/Validation Difference: 1.1783688913728554 \n",
      "\n"
     ]
    },
    {
     "data": {
      "image/png": "[encoded data removed]",
      "text/plain": [
       "<Figure size 864x288 with 4 Axes>"
      ]
     },
     "metadata": {
      "needs_background": "light"
     },
     "output_type": "display_data"
    }
   ],
   "source": [
    "model_metrics('Multinomial Naive Bayes', y_train, y_pred_train, y_valid, y_pred, test=False)"
   ]
  },
  {
   "cell_type": "markdown",
   "id": "f078e49f",
   "metadata": {},
   "source": [
    "#### Hyper Parameter Tuning"
   ]
  },
  {
   "cell_type": "markdown",
   "id": "8dba3e48",
   "metadata": {},
   "source": [
    "The model with the highest accuracy and lowest overfit is the `Logistic Regression` model."
   ]
  },
  {
   "cell_type": "code",
   "execution_count": 58,
   "id": "47303b5d",
   "metadata": {},
   "outputs": [
    {
     "data": {
      "text/plain": [
       "GridSearchCV(estimator=LogisticRegression(solver='saga'),\n",
       "             param_grid={'C': [0.1, 1, 10], 'max_iter': [550, 650, 750]})"
      ]
     },
     "execution_count": 58,
     "metadata": {},
     "output_type": "execute_result"
    }
   ],
   "source": [
    "param_grid = {'C': [0.1, 1, 10], 'max_iter': [550, 650, 750]}\n",
    "grid_search = GridSearchCV(LogisticRegression(solver='saga'), param_grid, cv=None)\n",
    "grid_search.fit(X_train_tfidf, y_train)"
   ]
  },
  {
   "cell_type": "code",
   "execution_count": 59,
   "id": "b07be194",
   "metadata": {},
   "outputs": [],
   "source": [
    "y_pred_train = grid_search.predict(X_train_tfidf)\n",
    "y_pred = grid_search.predict(X_valid_tfidf)"
   ]
  },
  {
   "cell_type": "code",
   "execution_count": 60,
   "id": "2650a9bb",
   "metadata": {},
   "outputs": [
    {
     "name": "stdout",
     "output_type": "stream",
     "text": [
      "Training Scores:\n",
      "\n",
      "               precision    recall  f1-score   support\n",
      "\n",
      "    negative       0.93      0.92      0.92     96750\n",
      "    positive       0.93      0.94      0.93    108822\n",
      "\n",
      "    accuracy                           0.93    205572\n",
      "   macro avg       0.93      0.93      0.93    205572\n",
      "weighted avg       0.93      0.93      0.93    205572\n",
      " _____________________________________________________ \n",
      "\n",
      "Validation Scores:\n",
      "\n",
      "               precision    recall  f1-score   support\n",
      "\n",
      "    negative       0.92      0.89      0.91      5375\n",
      "    positive       0.91      0.93      0.92      6045\n",
      "\n",
      "    accuracy                           0.92     11420\n",
      "   macro avg       0.92      0.91      0.91     11420\n",
      "weighted avg       0.92      0.92      0.92     11420\n",
      " _____________________________________________________ \n",
      "\n",
      "Training/Validation Difference: 1.2365570512015154 \n",
      "\n"
     ]
    },
    {
     "data": {
      "image/png": "[encoded data removed]",
      "text/plain": [
       "<Figure size 864x288 with 4 Axes>"
      ]
     },
     "metadata": {
      "needs_background": "light"
     },
     "output_type": "display_data"
    }
   ],
   "source": [
    "model_metrics('Grid Search (Logistic Regression)', y_train, y_pred_train, y_valid, y_pred)"
   ]
  },
  {
   "cell_type": "code",
   "execution_count": 61,
   "id": "b01c46c0",
   "metadata": {},
   "outputs": [
    {
     "data": {
      "text/html": [
       "<div>\n",
       "<style scoped>\n",
       "    .dataframe tbody tr th:only-of-type {\n",
       "        vertical-align: middle;\n",
       "    }\n",
       "\n",
       "    .dataframe tbody tr th {\n",
       "        vertical-align: top;\n",
       "    }\n",
       "\n",
       "    .dataframe thead th {\n",
       "        text-align: right;\n",
       "    }\n",
       "</style>\n",
       "<table border=\"1\" class=\"dataframe\">\n",
       "  <thead>\n",
       "    <tr style=\"text-align: right;\">\n",
       "      <th></th>\n",
       "      <th>mean_fit_time</th>\n",
       "      <th>std_fit_time</th>\n",
       "      <th>mean_score_time</th>\n",
       "      <th>std_score_time</th>\n",
       "      <th>param_C</th>\n",
       "      <th>param_max_iter</th>\n",
       "      <th>params</th>\n",
       "      <th>split0_test_score</th>\n",
       "      <th>split1_test_score</th>\n",
       "      <th>split2_test_score</th>\n",
       "      <th>split3_test_score</th>\n",
       "      <th>split4_test_score</th>\n",
       "      <th>mean_test_score</th>\n",
       "      <th>std_test_score</th>\n",
       "      <th>rank_test_score</th>\n",
       "    </tr>\n",
       "  </thead>\n",
       "  <tbody>\n",
       "    <tr>\n",
       "      <th>0</th>\n",
       "      <td>5.706751</td>\n",
       "      <td>0.375264</td>\n",
       "      <td>0.056302</td>\n",
       "      <td>0.007689</td>\n",
       "      <td>0.1</td>\n",
       "      <td>550</td>\n",
       "      <td>{'C': 0.1, 'max_iter': 550}</td>\n",
       "      <td>0.898845</td>\n",
       "      <td>0.897045</td>\n",
       "      <td>0.899013</td>\n",
       "      <td>0.896678</td>\n",
       "      <td>0.898623</td>\n",
       "      <td>0.898041</td>\n",
       "      <td>0.000978</td>\n",
       "      <td>7</td>\n",
       "    </tr>\n",
       "    <tr>\n",
       "      <th>1</th>\n",
       "      <td>5.588910</td>\n",
       "      <td>0.331200</td>\n",
       "      <td>0.053138</td>\n",
       "      <td>0.007652</td>\n",
       "      <td>0.1</td>\n",
       "      <td>650</td>\n",
       "      <td>{'C': 0.1, 'max_iter': 650}</td>\n",
       "      <td>0.898845</td>\n",
       "      <td>0.897045</td>\n",
       "      <td>0.899013</td>\n",
       "      <td>0.896678</td>\n",
       "      <td>0.898623</td>\n",
       "      <td>0.898041</td>\n",
       "      <td>0.000978</td>\n",
       "      <td>7</td>\n",
       "    </tr>\n",
       "    <tr>\n",
       "      <th>2</th>\n",
       "      <td>5.835939</td>\n",
       "      <td>0.216297</td>\n",
       "      <td>0.059387</td>\n",
       "      <td>0.006255</td>\n",
       "      <td>0.1</td>\n",
       "      <td>750</td>\n",
       "      <td>{'C': 0.1, 'max_iter': 750}</td>\n",
       "      <td>0.898845</td>\n",
       "      <td>0.897045</td>\n",
       "      <td>0.898988</td>\n",
       "      <td>0.896678</td>\n",
       "      <td>0.898623</td>\n",
       "      <td>0.898036</td>\n",
       "      <td>0.000973</td>\n",
       "      <td>9</td>\n",
       "    </tr>\n",
       "    <tr>\n",
       "      <th>3</th>\n",
       "      <td>6.129884</td>\n",
       "      <td>0.350386</td>\n",
       "      <td>0.053134</td>\n",
       "      <td>0.007656</td>\n",
       "      <td>1</td>\n",
       "      <td>550</td>\n",
       "      <td>{'C': 1, 'max_iter': 550}</td>\n",
       "      <td>0.911589</td>\n",
       "      <td>0.909887</td>\n",
       "      <td>0.910833</td>\n",
       "      <td>0.910590</td>\n",
       "      <td>0.912949</td>\n",
       "      <td>0.911170</td>\n",
       "      <td>0.001043</td>\n",
       "      <td>1</td>\n",
       "    </tr>\n",
       "    <tr>\n",
       "      <th>4</th>\n",
       "      <td>6.128996</td>\n",
       "      <td>0.330590</td>\n",
       "      <td>0.053135</td>\n",
       "      <td>0.007655</td>\n",
       "      <td>1</td>\n",
       "      <td>650</td>\n",
       "      <td>{'C': 1, 'max_iter': 650}</td>\n",
       "      <td>0.911541</td>\n",
       "      <td>0.909887</td>\n",
       "      <td>0.910833</td>\n",
       "      <td>0.910590</td>\n",
       "      <td>0.912949</td>\n",
       "      <td>0.911160</td>\n",
       "      <td>0.001039</td>\n",
       "      <td>2</td>\n",
       "    </tr>\n",
       "    <tr>\n",
       "      <th>5</th>\n",
       "      <td>5.955131</td>\n",
       "      <td>0.258410</td>\n",
       "      <td>0.062515</td>\n",
       "      <td>0.009887</td>\n",
       "      <td>1</td>\n",
       "      <td>750</td>\n",
       "      <td>{'C': 1, 'max_iter': 750}</td>\n",
       "      <td>0.911565</td>\n",
       "      <td>0.909887</td>\n",
       "      <td>0.910809</td>\n",
       "      <td>0.910590</td>\n",
       "      <td>0.912949</td>\n",
       "      <td>0.911160</td>\n",
       "      <td>0.001043</td>\n",
       "      <td>3</td>\n",
       "    </tr>\n",
       "    <tr>\n",
       "      <th>6</th>\n",
       "      <td>18.304402</td>\n",
       "      <td>0.529633</td>\n",
       "      <td>0.065638</td>\n",
       "      <td>0.006254</td>\n",
       "      <td>10</td>\n",
       "      <td>550</td>\n",
       "      <td>{'C': 10, 'max_iter': 550}</td>\n",
       "      <td>0.908476</td>\n",
       "      <td>0.910130</td>\n",
       "      <td>0.909933</td>\n",
       "      <td>0.908742</td>\n",
       "      <td>0.909350</td>\n",
       "      <td>0.909326</td>\n",
       "      <td>0.000645</td>\n",
       "      <td>6</td>\n",
       "    </tr>\n",
       "    <tr>\n",
       "      <th>7</th>\n",
       "      <td>17.822955</td>\n",
       "      <td>0.122699</td>\n",
       "      <td>0.059321</td>\n",
       "      <td>0.006221</td>\n",
       "      <td>10</td>\n",
       "      <td>650</td>\n",
       "      <td>{'C': 10, 'max_iter': 650}</td>\n",
       "      <td>0.908476</td>\n",
       "      <td>0.910130</td>\n",
       "      <td>0.909933</td>\n",
       "      <td>0.908742</td>\n",
       "      <td>0.909374</td>\n",
       "      <td>0.909331</td>\n",
       "      <td>0.000645</td>\n",
       "      <td>5</td>\n",
       "    </tr>\n",
       "    <tr>\n",
       "      <th>8</th>\n",
       "      <td>18.526477</td>\n",
       "      <td>0.651649</td>\n",
       "      <td>0.059387</td>\n",
       "      <td>0.006253</td>\n",
       "      <td>10</td>\n",
       "      <td>750</td>\n",
       "      <td>{'C': 10, 'max_iter': 750}</td>\n",
       "      <td>0.908476</td>\n",
       "      <td>0.910154</td>\n",
       "      <td>0.909933</td>\n",
       "      <td>0.908766</td>\n",
       "      <td>0.909398</td>\n",
       "      <td>0.909346</td>\n",
       "      <td>0.000647</td>\n",
       "      <td>4</td>\n",
       "    </tr>\n",
       "  </tbody>\n",
       "</table>\n",
       "</div>"
      ],
      "text/plain": [
       "   mean_fit_time  std_fit_time  mean_score_time  std_score_time param_C  \\\n",
       "0       5.706751      0.375264         0.056302        0.007689     0.1   \n",
       "1       5.588910      0.331200         0.053138        0.007652     0.1   \n",
       "2       5.835939      0.216297         0.059387        0.006255     0.1   \n",
       "3       6.129884      0.350386         0.053134        0.007656       1   \n",
       "4       6.128996      0.330590         0.053135        0.007655       1   \n",
       "5       5.955131      0.258410         0.062515        0.009887       1   \n",
       "6      18.304402      0.529633         0.065638        0.006254      10   \n",
       "7      17.822955      0.122699         0.059321        0.006221      10   \n",
       "8      18.526477      0.651649         0.059387        0.006253      10   \n",
       "\n",
       "  param_max_iter                       params  split0_test_score  \\\n",
       "0            550  {'C': 0.1, 'max_iter': 550}           0.898845   \n",
       "1            650  {'C': 0.1, 'max_iter': 650}           0.898845   \n",
       "2            750  {'C': 0.1, 'max_iter': 750}           0.898845   \n",
       "3            550    {'C': 1, 'max_iter': 550}           0.911589   \n",
       "4            650    {'C': 1, 'max_iter': 650}           0.911541   \n",
       "5            750    {'C': 1, 'max_iter': 750}           0.911565   \n",
       "6            550   {'C': 10, 'max_iter': 550}           0.908476   \n",
       "7            650   {'C': 10, 'max_iter': 650}           0.908476   \n",
       "8            750   {'C': 10, 'max_iter': 750}           0.908476   \n",
       "\n",
       "   split1_test_score  split2_test_score  split3_test_score  split4_test_score  \\\n",
       "0           0.897045           0.899013           0.896678           0.898623   \n",
       "1           0.897045           0.899013           0.896678           0.898623   \n",
       "2           0.897045           0.898988           0.896678           0.898623   \n",
       "3           0.909887           0.910833           0.910590           0.912949   \n",
       "4           0.909887           0.910833           0.910590           0.912949   \n",
       "5           0.909887           0.910809           0.910590           0.912949   \n",
       "6           0.910130           0.909933           0.908742           0.909350   \n",
       "7           0.910130           0.909933           0.908742           0.909374   \n",
       "8           0.910154           0.909933           0.908766           0.909398   \n",
       "\n",
       "   mean_test_score  std_test_score  rank_test_score  \n",
       "0         0.898041        0.000978                7  \n",
       "1         0.898041        0.000978                7  \n",
       "2         0.898036        0.000973                9  \n",
       "3         0.911170        0.001043                1  \n",
       "4         0.911160        0.001039                2  \n",
       "5         0.911160        0.001043                3  \n",
       "6         0.909326        0.000645                6  \n",
       "7         0.909331        0.000645                5  \n",
       "8         0.909346        0.000647                4  "
      ]
     },
     "execution_count": 61,
     "metadata": {},
     "output_type": "execute_result"
    }
   ],
   "source": [
    "pd.DataFrame(grid_search.cv_results_)"
   ]
  },
  {
   "cell_type": "markdown",
   "id": "c7a647d2",
   "metadata": {},
   "source": [
    "#### Model Testing"
   ]
  },
  {
   "cell_type": "code",
   "execution_count": 41,
   "id": "15faa4be",
   "metadata": {},
   "outputs": [],
   "source": [
    "X_train_valid = pd.concat([X_train, X_valid])\n",
    "y_train_valid = pd.concat([y_train, y_valid])"
   ]
  },
  {
   "cell_type": "code",
   "execution_count": 42,
   "id": "b67f211b",
   "metadata": {},
   "outputs": [],
   "source": [
    "X_train_valid_tfidf = tfidf.fit_transform(X_train_valid)\n",
    "X_test_tfidf = tfidf.transform(X_test)"
   ]
  },
  {
   "cell_type": "code",
   "execution_count": 62,
   "id": "72cfda8e",
   "metadata": {},
   "outputs": [
    {
     "data": {
      "text/plain": [
       "LogisticRegression(C=1, max_iter=550, solver='saga')"
      ]
     },
     "execution_count": 62,
     "metadata": {},
     "output_type": "execute_result"
    }
   ],
   "source": [
    "log_reg_final = LogisticRegression(C=1, max_iter=550, solver='saga')\n",
    "log_reg_final.fit(X_train_valid_tfidf, y_train_valid)"
   ]
  },
  {
   "cell_type": "code",
   "execution_count": 63,
   "id": "96511385",
   "metadata": {},
   "outputs": [],
   "source": [
    "y_pred_train = log_reg_final.predict(X_train_valid_tfidf)\n",
    "y_pred = log_reg_final.predict(X_test_tfidf)"
   ]
  },
  {
   "cell_type": "code",
   "execution_count": 64,
   "id": "54ca8991",
   "metadata": {},
   "outputs": [
    {
     "name": "stdout",
     "output_type": "stream",
     "text": [
      "Training Scores:\n",
      "\n",
      "               precision    recall  f1-score   support\n",
      "\n",
      "    negative       0.93      0.92      0.92    102125\n",
      "    positive       0.93      0.94      0.93    114867\n",
      "\n",
      "    accuracy                           0.93    216992\n",
      "   macro avg       0.93      0.93      0.93    216992\n",
      "weighted avg       0.93      0.93      0.93    216992\n",
      " _____________________________________________________ \n",
      "\n",
      "Testing Scores:\n",
      "\n",
      "               precision    recall  f1-score   support\n",
      "\n",
      "    negative       0.92      0.90      0.91      5438\n",
      "    positive       0.91      0.93      0.92      5983\n",
      "\n",
      "    accuracy                           0.91     11421\n",
      "   macro avg       0.91      0.91      0.91     11421\n",
      "weighted avg       0.91      0.91      0.91     11421\n",
      " _____________________________________________________ \n",
      "\n",
      "Training/Testing Difference: 1.3532298784668768 \n",
      "\n"
     ]
    },
    {
     "data": {
      "image/png": "[encoded data removed]",
      "text/plain": [
       "<Figure size 864x288 with 4 Axes>"
      ]
     },
     "metadata": {
      "needs_background": "light"
     },
     "output_type": "display_data"
    }
   ],
   "source": [
    "model_metrics('Logistic Regression', y_train_valid, y_pred_train, y_test, y_pred, test=True, save=True)"
   ]
  }
 ],
 "metadata": {
  "kernelspec": {
   "display_name": "Python 3 (ipykernel)",
   "language": "python",
   "name": "python3"
  },
  "language_info": {
   "codemirror_mode": {
    "name": "ipython",
    "version": 3
   },
   "file_extension": ".py",
   "mimetype": "text/x-python",
   "name": "python",
   "nbconvert_exporter": "python",
   "pygments_lexer": "ipython3",
   "version": "3.9.2"
  }
 },
 "nbformat": 4,
 "nbformat_minor": 5
}
